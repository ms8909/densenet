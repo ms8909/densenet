{
 "cells": [
  {
   "cell_type": "code",
   "execution_count": 28,
   "metadata": {},
   "outputs": [],
   "source": [
    "import tensorflow as tf\n",
    "from __future__ import absolute_import\n",
    "from __future__ import division\n",
    "from __future__ import print_function\n",
    "import numpy as np"
   ]
  },
  {
   "cell_type": "code",
   "execution_count": 29,
   "metadata": {},
   "outputs": [
    {
     "ename": "SyntaxError",
     "evalue": "invalid syntax (<ipython-input-29-78ae3bafc3d1>, line 14)",
     "output_type": "error",
     "traceback": [
      "\u001b[0;36m  File \u001b[0;32m\"<ipython-input-29-78ae3bafc3d1>\"\u001b[0;36m, line \u001b[0;32m14\u001b[0m\n\u001b[0;31m    pool1= tf.layers.max_pooling2d(inputs=conv1, pool_size=[2,2]. stride=2)\u001b[0m\n\u001b[0m                                                                        ^\u001b[0m\n\u001b[0;31mSyntaxError\u001b[0m\u001b[0;31m:\u001b[0m invalid syntax\n"
     ]
    }
   ],
   "source": [
    "def cnn_model_fn(features, labels, mode):\n",
    "    #input layer\n",
    "    input_layer= tf.reshape(features[\"x\"], [-1,28,28,1])\n",
    "    \n",
    "    #convolutional layer #1\n",
    "    \n",
    "    conv1= tf.layers.conv2d(inputs= input_layer,\n",
    "                            filers=32,\n",
    "                            kernel_size=[5,5],\n",
    "                           padding=\"same\",\n",
    "                           activation=tf.nn.relu)\n",
    "    \n",
    "    #pooling layer #1\n",
    "    pool1= tf.layers.max_pooling2d(inputs=conv1, pool_size=[2,2]. stride=2)\n",
    "    \n",
    "    #convolutional layer #2 and pooling layer #2\n",
    "    \n",
    "    conv2= tf.layers.conv2d(inputs=poool1,\n",
    "                            filters= 64,\n",
    "                            kernel_size=[5,5],\n",
    "                            padding=\"same\",\n",
    "                            activation= tf.nn.relu\n",
    "                           )\n",
    "    pool2= tf.layers.max_pooling2d(inputs= conv2, pool_size=[2,2], strides=2)\n",
    "    \n",
    "    # Dense layer\n",
    "    pool2_flat= tf.reshape(pool2, [-1, 7*7*64])\n",
    "    dense= tf.layers.dense(iputs=pool2_flat, units=1024, activation= tf.nn.relu)\n",
    "    dropout= tf.layers.dropout(inputs_dense, rate= .4, training=mode == tf.estimator.ModeKeys.TRAIN)\n",
    "    \n",
    "    # logits layer\n",
    "    logits= tf.layers.dense(inputs= dropout, units=10)\n",
    "    perdictions= {\n",
    "        # generate predictions ( for predict and eval mode)\n",
    "        \"classes\": tf.argmax(inputs=logits, axis=1),\n",
    "        \"probabilities\": tf.nn.softmax(logits, name=\"softmax_tensor\")\n",
    "    }\n",
    "    \n",
    "    if mode == tf.estimator.ModeKeys.PREDICT:\n",
    "        return tf.estimator.EstimateSpec(mode=mode, preductions= predictions)\n",
    "    \n",
    "    # calcualtion loss (for both train and eval modes)\n",
    "    loss= tf.losses.sparse_softmax_cross_entropy(labels=labels, logits=logits )\n",
    "    \n",
    "    # configure the training op( for train mode)\n",
    "\n",
    "    if mode == tf.estimator.ModeKeys.TRAIN:\n",
    "    optimizer = tf.train.GradientDescentOptimizer(learning_rate=0.001)\n",
    "    train_op = optimizer.minimize(\n",
    "        loss=loss,\n",
    "        global_step=tf.train.get_global_step())\n",
    "        return tf.estimator.EstimatorSpec(mode=mode, loss=loss, train_op=train_op)\n",
    "\n",
    "  # Add evaluation metrics (for EVAL mode)\n",
    "    eval_metric_ops = {\n",
    "      \"accuracy\": tf.metrics.accuracy(\n",
    "          labels=labels, predictions=predictions[\"classes\"])}\n",
    "    return tf.estimator.EstimatorSpec(\n",
    "      mode=mode, loss=loss, eval_metric_ops=eval_metric_ops)"
   ]
  },
  {
   "cell_type": "code",
   "execution_count": 60,
   "metadata": {},
   "outputs": [],
   "source": [
    "def dense_block(features):\n",
    "\n",
    "    #convolutional layer 2\n",
    "    conv1= features\n",
    "    conv2= tf.layers.conv2d(inputs= conv1,\n",
    "                            filters=12,\n",
    "                            kernel_size=[3,3],\n",
    "                           padding=\"same\",\n",
    "                           activation=tf.nn.relu)\n",
    "    \n",
    "    #concatenation   \n",
    "    concat1= tf.concat([conv1,conv2],-1)\n",
    "    \n",
    "    # conv layer 3\n",
    "    \n",
    "    conv3a= tf.layers.conv2d(inputs= conv2, filters=12*4, kernel_size=[1,1],\n",
    "                         padding=\"same\", activation=tf.nn.relu)\n",
    "    \n",
    "    conv3= tf.layers.conv2d(inputs= conv3a, filters=12, kernel_size=[3,3],\n",
    "                         padding=\"same\", activation=tf.nn.relu)\n",
    "\n",
    "    #concatenation\n",
    "    concat2= tf.concat([concat1, conv3], -1) \n",
    "    return concat2\n",
    "    \n",
    "\n",
    "    \n",
    "def transition_layer(features):\n",
    "        # conv layer 1\n",
    "    \n",
    "    conv1= tf.layers.conv2d(inputs= features,\n",
    "                            filters=int(features.shape[-1]),\n",
    "                            kernel_size=[5,5],\n",
    "                           padding=\"same\",\n",
    "                           activation=tf.nn.relu)\n",
    "    \n",
    "    pool1= tf.layers.max_pooling2d(inputs= conv1, pool_size=[2,2], strides=2)\n",
    "    \n",
    "    return pool1\n",
    "    \n",
    "    "
   ]
  },
  {
   "cell_type": "code",
   "execution_count": 69,
   "metadata": {},
   "outputs": [],
   "source": [
    "def denseNet(x, numblocks):\n",
    "    x1 = tf.convert_to_tensor(x, np.float32)\n",
    "    # conv layer 1\n",
    "    output= tf.layers.conv2d(inputs= x1,\n",
    "                                filters=24,\n",
    "                                kernel_size=[1,1],\n",
    "                               padding=\"same\",\n",
    "                               activation=tf.nn.relu)\n",
    "\n",
    "    for i in range(numblocks-1):\n",
    "        output= dense_block(output)\n",
    "        output= transition_layer(output)\n",
    "\n",
    "    dense= dense_block(output)\n",
    "    pool1= tf.layers.max_pooling2d(inputs= dense,pool_size=[2,2], strides=2)\n",
    "\n",
    "    # fully connected layers\n",
    "    pool1_flat= tf.reshape(pool1, [-1,int(pool1.shape[-1])*int(pool1.shape[-2])*int(pool1.shape[-3])])\n",
    "    dense= tf.layers.dense(inputs= pool1_flat, units=1024, activation=tf.nn.relu)\n",
    "    dropout= tf.layers.dropout(inputs=dense, rate= .4)\n",
    "    logits= tf.layers.dense(inputs= dropout, units=10)\n",
    "    \n",
    "    return logits\n",
    "    "
   ]
  },
  {
   "cell_type": "code",
   "execution_count": 70,
   "metadata": {},
   "outputs": [],
   "source": [
    "#x= np.random.rand(200,28,28,3)\n",
    "\n",
    "# plance holders\n",
    "x = tf.placeholder(dtype = tf.float32, shape = [None, 28, 28, 3])\n",
    "labels = tf.placeholder(dtype = tf.int32, shape = [None])\n",
    "logits= denseNet(x,2)\n",
    "perdiction= tf.argmax(logits, name=\"softmax tensor\")\n",
    "\n",
    "# calcualtion loss (for both train and eval modes)\n",
    "loss= tf.losses.sparse_softmax_cross_entropy(labels=labels, logits= logits)\n",
    "\n",
    "#optimizer\n",
    "optimizer = tf.train.GradientDescentOptimizer(learning_rate=0.001)\n",
    "train_op = optimizer.minimize(\n",
    "        loss=loss,\n",
    "        global_step=tf.train.get_global_step())\n"
   ]
  },
  {
   "cell_type": "code",
   "execution_count": 71,
   "metadata": {},
   "outputs": [
    {
     "data": {
      "text/plain": [
       "<tf.Tensor 'dense_4/BiasAdd:0' shape=(200, 10) dtype=float32>"
      ]
     },
     "execution_count": 71,
     "metadata": {},
     "output_type": "execute_result"
    }
   ],
   "source": [
    "sess= tf.Session()\n",
    "sess.run(tf.global_variables_initializer())\n",
    "\n",
    "for i in range(epoch):\n",
    "    perdiction, loss= sess.run([perdiction, loss], feed_dict={x:X, labels: y})"
   ]
  },
  {
   "cell_type": "code",
   "execution_count": null,
   "metadata": {},
   "outputs": [],
   "source": []
  }
 ],
 "metadata": {
  "kernelspec": {
   "display_name": "Python 2",
   "language": "python",
   "name": "python2"
  },
  "language_info": {
   "codemirror_mode": {
    "name": "ipython",
    "version": 3
   },
   "file_extension": ".py",
   "mimetype": "text/x-python",
   "name": "python",
   "nbconvert_exporter": "python",
   "pygments_lexer": "ipython3",
   "version": "3.5.2"
  }
 },
 "nbformat": 4,
 "nbformat_minor": 2
}
